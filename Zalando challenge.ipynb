{
 "cells": [
  {
   "cell_type": "code",
   "execution_count": 1,
   "metadata": {},
   "outputs": [],
   "source": [
    "from math import pi,cos,sqrt,log,exp"
   ]
  },
  {
   "cell_type": "code",
   "execution_count": 31,
   "metadata": {},
   "outputs": [],
   "source": [
    "from folium import Map,Marker,Icon\n",
    "from folium.features import PolyLine\n",
    "from folium.plugins import HeatMap\n",
    "m = Map(location=[52.516422, 13.377767], zoom_start=11)"
   ]
  },
  {
   "cell_type": "markdown",
   "metadata": {},
   "source": [
    "# Knowledge"
   ]
  },
  {
   "cell_type": "markdown",
   "metadata": {},
   "source": [
    "## Distance to the Spree\n",
    "\n",
    "The path of the river Spree through the city of Berlin is approximated in a piecewise linear manner."
   ]
  },
  {
   "cell_type": "code",
   "execution_count": 3,
   "metadata": {},
   "outputs": [],
   "source": [
    "spree_geo = [(52.529198,13.274099),\n",
    "             (52.531835,13.29234),\n",
    "             (52.522116,13.298541),\n",
    "             (52.520569,13.317349),\n",
    "             (52.524877,13.322434),\n",
    "             (52.522788,13.329),\n",
    "             (52.517056,13.332075),\n",
    "             (52.522514,13.340743),\n",
    "             (52.517239,13.356665),\n",
    "             (52.523063,13.372158),\n",
    "             (52.519198,13.379453),\n",
    "             (52.522462,13.392328),\n",
    "             (52.520921,13.399703),\n",
    "             (52.515333,13.406054),\n",
    "             (52.514863,13.416354),\n",
    "             (52.506034,13.435923),\n",
    "             (52.496473,13.461587),\n",
    "             (52.487641,13.483216),\n",
    "             (52.488739,13.491456),\n",
    "             (52.464011,13.503386),\n",
    "             (52.448181,13.572909),\n",
    "             (52.444107,13.625790)]"
   ]
  },
  {
   "cell_type": "code",
   "execution_count": 32,
   "metadata": {},
   "outputs": [
    {
     "data": {
      "text/html": [
       "<div style=\"width:100%;\"><div style=\"position:relative;width:100%;height:0;padding-bottom:60%;\"><iframe src=\"data:text/html;charset=utf-8;base64,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\" style=\"position:absolute;width:100%;height:100%;left:0;top:0;border:none !important;\" allowfullscreen webkitallowfullscreen mozallowfullscreen></iframe></div></div>"
      ],
      "text/plain": [
       "<folium.folium.Map at 0x7f42daebdeb8>"
      ]
     },
     "execution_count": 32,
     "metadata": {},
     "output_type": "execute_result"
    }
   ],
   "source": [
    "PolyLine(spree_geo,popup='Spree river (piecewise linear approximation)').add_to(m)\n",
    "m"
   ]
  },
  {
   "cell_type": "markdown",
   "metadata": {},
   "source": [
    "The knowledge of the distance $D_{Spree}$ of the candidate to the Spree translates as follows:\n",
    "\n",
    "$$\n",
    "D_{Spree} \\sim \\mathcal{N}(0,\\sigma_{Spree})\n",
    "$$\n",
    "\n",
    "with $\\sigma_{Spree}= 2.730 / 2\\,km$, as the 95 % confidence interval has a radius of 2.730 km, and this radius is (approximately) equal to $2 \\times \\sigma_{Spree}$."
   ]
  },
  {
   "cell_type": "code",
   "execution_count": 5,
   "metadata": {},
   "outputs": [],
   "source": [
    "std_spree = 2.730 / 2\n",
    "mean_spree = 0.0"
   ]
  },
  {
   "cell_type": "markdown",
   "metadata": {},
   "source": [
    "## Distance to the Brandenburger Tor\n",
    "\n",
    "The Brandenburger Tor has the following coordinates:"
   ]
  },
  {
   "cell_type": "code",
   "execution_count": 6,
   "metadata": {},
   "outputs": [],
   "source": [
    "tor_geo = (52.516288,13.377689)"
   ]
  },
  {
   "cell_type": "markdown",
   "metadata": {},
   "source": [
    "The knowledge of the distance $D_{Tor}$ of the candidate to the Spree translates as follows:\n",
    "\n",
    "$$\n",
    "log(D_{Tor}) \\sim \\mathcal{N}(\\mu,\\sigma_{Tor})\n",
    "$$\n",
    "\n",
    "with:\n",
    "\n",
    "$$\n",
    "\\mu = \\log \\mathbb{E}(D_{Tor}) - \\frac{\\sigma_{Tor}^2}{2}\n",
    "$$\n",
    "\n",
    "and:\n",
    "\n",
    "$$\n",
    "\\sigma = \\sqrt{\\frac{2}{3} \\times (\\log(\\mathbb{E}(D_{Tor}))-\\log(mode(D_{Tor}))}\n",
    "$$"
   ]
  },
  {
   "cell_type": "code",
   "execution_count": 7,
   "metadata": {},
   "outputs": [],
   "source": [
    "mean_tor = 4.7\n",
    "mode_tor = 3.877\n",
    "std_tor = sqrt((log(mean_tor)-log(mode_tor)) * 2/3)\n",
    "mu_tor = log(mean_tor) - std_tor**2 / 2"
   ]
  },
  {
   "cell_type": "code",
   "execution_count": 33,
   "metadata": {},
   "outputs": [
    {
     "data": {
      "text/html": [
       "<div style=\"width:100%;\"><div style=\"position:relative;width:100%;height:0;padding-bottom:60%;\"><iframe src=\"data:text/html;charset=utf-8;base64,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\" style=\"position:absolute;width:100%;height:100%;left:0;top:0;border:none !important;\" allowfullscreen webkitallowfullscreen mozallowfullscreen></iframe></div></div>"
      ],
      "text/plain": [
       "<folium.folium.Map at 0x7f42daebdeb8>"
      ]
     },
     "execution_count": 33,
     "metadata": {},
     "output_type": "execute_result"
    }
   ],
   "source": [
    "Marker(location=tor_geo,popup='Brandenburger Tor',icon=Icon(icon='')).add_to(m)\n",
    "m"
   ]
  },
  {
   "cell_type": "markdown",
   "metadata": {},
   "source": [
    "## Distance to a satellite path\n",
    "\n",
    "The satellite follows a straight line joining the two following points:"
   ]
  },
  {
   "cell_type": "code",
   "execution_count": 9,
   "metadata": {},
   "outputs": [],
   "source": [
    "sat_geo = [(52.590117,13.39915),\n",
    "           (52.437385,13.553989)]"
   ]
  },
  {
   "cell_type": "markdown",
   "metadata": {},
   "source": [
    "The knowledge of the distance $D_{Sat}$ of the candidate to this path translates into:\n",
    "\n",
    "$$\n",
    "D_{Sat} \\sim \\mathbb{N}(0,\\sigma_{Sat})\n",
    "$$\n",
    "\n",
    "with $\\sigma_{Sat} = 2.4 / 2 km$, half of the range of the centered 95% confidence interval."
   ]
  },
  {
   "cell_type": "code",
   "execution_count": 10,
   "metadata": {},
   "outputs": [],
   "source": [
    "std_sat = 2.4 / 2\n",
    "mean_sat = 0.0\n",
    "\n",
    "earth_radius = 6371 # in km"
   ]
  },
  {
   "cell_type": "code",
   "execution_count": 34,
   "metadata": {},
   "outputs": [
    {
     "data": {
      "text/html": [
       "<div style=\"width:100%;\"><div style=\"position:relative;width:100%;height:0;padding-bottom:60%;\"><iframe src=\"data:text/html;charset=utf-8;base64,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\" style=\"position:absolute;width:100%;height:100%;left:0;top:0;border:none !important;\" allowfullscreen webkitallowfullscreen mozallowfullscreen></iframe></div></div>"
      ],
      "text/plain": [
       "<folium.folium.Map at 0x7f42daebdeb8>"
      ]
     },
     "execution_count": 34,
     "metadata": {},
     "output_type": "execute_result"
    }
   ],
   "source": [
    "PolyLine(sat_geo,popup=\"Satellite path\").add_to(m)\n",
    "m"
   ]
  },
  {
   "cell_type": "markdown",
   "metadata": {},
   "source": [
    "# Utility functions"
   ]
  },
  {
   "cell_type": "markdown",
   "metadata": {},
   "source": [
    "Spatial coordinates are converted into cartesian coordinates in the tangent space at the Brandenburger Tor,\n",
    "which is also the origin of the linearized space."
   ]
  },
  {
   "cell_type": "code",
   "execution_count": 12,
   "metadata": {},
   "outputs": [],
   "source": [
    "def lng_radius(lat):\n",
    "    '''\n",
    "    Radius of the parallel at `lat`\n",
    "    '''\n",
    "    return earth_radius * cos(lat * pi/180)\n",
    "    \n",
    "def geo_to_cartesian(lat,lng,origin_lat=tor_geo[0],origin_lng=tor_geo[1]):\n",
    "    '''\n",
    "    Linearize geographic coordinates to cartesian coordinates\n",
    "    '''\n",
    "    x = (lat-origin_lat) * earth_radius * pi/180\n",
    "    y = (lng-origin_lng) * pi/180 * lng_radius(origin_lat)\n",
    "    \n",
    "    return x,y\n",
    "\n",
    "def cartesian_to_geo(x,y,origin_lat=tor_geo[0],origin_lng=tor_geo[1]):\n",
    "    lat = origin_lat + x/earth_radius * 180/pi\n",
    "    lng = origin_lng + y/lng_radius(origin_lat) * 180/pi\n",
    "    \n",
    "    return lat,lng\n",
    "    \n",
    "def distance(*args,bounded=False):\n",
    "    '''\n",
    "    Compute the distance to a point or a line\n",
    "    '''\n",
    "    if len(args) == 4:\n",
    "        return sqrt((args[0]-args[2])**2 + (args[1]-args[3])**2)\n",
    "    \n",
    "    if len(args) == 6:\n",
    "        x,y = args[0:2]\n",
    "        x_a, y_a, x_b, y_b = args[2:]\n",
    "        u,v = x_b - x_a, y_b - y_a\n",
    "\n",
    "        c = ((x-x_a)*u + (y-y_a)*v) / (u**2 + v**2)\n",
    "        p = (x_a + c*u, y_a + c*v)\n",
    "        if bounded:\n",
    "            if c < 0:\n",
    "                p = (x_a,y_a)\n",
    "            if c > 1:\n",
    "                p = (x_b,y_b)\n",
    "        return distance(x,y,*p)\n",
    "    \n",
    "def distance_multi(x,y,vertices):\n",
    "    lines = zip(vertices[::2],vertices[1::2])\n",
    "    distances = []\n",
    "    for l in lines:\n",
    "        distances.append(distance(x,y,l[0][0],l[0][1],*l[1],bounded=True))\n",
    "    return min(distances)"
   ]
  },
  {
   "cell_type": "markdown",
   "metadata": {},
   "source": [
    "# Likelihood"
   ]
  },
  {
   "cell_type": "code",
   "execution_count": 13,
   "metadata": {},
   "outputs": [],
   "source": [
    "from scipy.stats import norm,lognorm\n",
    "\n",
    "spree_cart = [geo_to_cartesian(*p) for p in spree_geo]\n",
    "def logp_spree(x,y):\n",
    "    d = distance_multi(x,y,spree_cart)\n",
    "    return norm.logpdf(d,loc=mean_spree,scale=std_spree)\n",
    "\n",
    "tor_cart = geo_to_cartesian(*tor_geo)\n",
    "def logp_tor(x,y):\n",
    "    d = distance(x,y,*tor_cart)\n",
    "    return lognorm.logpdf(d,std_tor,scale=exp(mu_tor))\n",
    "\n",
    "sat_cart = [geo_to_cartesian(*p) for p in sat_geo]\n",
    "def logp_sat(x,y):\n",
    "    d = distance(x,y,sat_cart[0][0],sat_cart[0][1],*sat_cart[1])\n",
    "    return norm.logpdf(d,loc=mean_sat,scale=std_sat)"
   ]
  },
  {
   "cell_type": "markdown",
   "metadata": {},
   "source": [
    "The three sources of information are independent, the likelihood of an observation `x` is the product of\n",
    "each probability."
   ]
  },
  {
   "cell_type": "code",
   "execution_count": 14,
   "metadata": {},
   "outputs": [],
   "source": [
    "def nlikelihood(x):\n",
    "    return logp_spree(*x) + logp_tor(*x) + logp_sat(*x)"
   ]
  },
  {
   "cell_type": "markdown",
   "metadata": {},
   "source": [
    "# Optimization"
   ]
  },
  {
   "cell_type": "markdown",
   "metadata": {},
   "source": [
    "In order to produce a point prediction, some would advocate a maximum-likelihood approach."
   ]
  },
  {
   "cell_type": "code",
   "execution_count": 15,
   "metadata": {},
   "outputs": [],
   "source": [
    "from scipy.optimize import minimize\n",
    "import numpy as np"
   ]
  },
  {
   "cell_type": "code",
   "execution_count": 16,
   "metadata": {},
   "outputs": [],
   "source": [
    "x0 = np.array((1.0,1.0))\n",
    "res = minimize(lambda x: -nlikelihood(x),x0,method='nelder-mead',\n",
    "               options={'xtol': 1e-4})\n",
    "\n",
    "mlike = cartesian_to_geo(*res.x)"
   ]
  },
  {
   "cell_type": "code",
   "execution_count": 35,
   "metadata": {},
   "outputs": [
    {
     "data": {
      "text/html": [
       "<div style=\"width:100%;\"><div style=\"position:relative;width:100%;height:0;padding-bottom:60%;\"><iframe src=\"data:text/html;charset=utf-8;base64,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\" style=\"position:absolute;width:100%;height:100%;left:0;top:0;border:none !important;\" allowfullscreen webkitallowfullscreen mozallowfullscreen></iframe></div></div>"
      ],
      "text/plain": [
       "<folium.folium.Map at 0x7f42daebdeb8>"
      ]
     },
     "execution_count": 35,
     "metadata": {},
     "output_type": "execute_result"
    }
   ],
   "source": [
    "Marker(location=mlike,popup='Maximum likelihood',icon=Icon(icon=None,color='red')).add_to(m)\n",
    "m"
   ]
  },
  {
   "cell_type": "markdown",
   "metadata": {},
   "source": [
    "# Sampling"
   ]
  },
  {
   "cell_type": "markdown",
   "metadata": {},
   "source": [
    "There's more information available by exploring the posterior distribution (assuming a uniform prior over the area of interest, though one could build a prior from public census data).\n",
    "\n",
    "Here we use a basic Monte Carlo Markov chain."
   ]
  },
  {
   "cell_type": "code",
   "execution_count": 18,
   "metadata": {},
   "outputs": [],
   "source": [
    "from numpy.random import uniform,random_sample\n",
    "from numpy import average\n",
    "\n",
    "sample_size = 50000\n",
    "burnin_size = 10000"
   ]
  },
  {
   "cell_type": "code",
   "execution_count": 28,
   "metadata": {},
   "outputs": [],
   "source": [
    "values_geo,values_cart = [],[]\n",
    "x_old, y_old = res.x\n",
    "lat_old, lng_old = cartesian_to_geo(x_old,y_old)\n",
    "lik_old = 0.0\n",
    "for ii in range(sample_size):\n",
    "        x = x_old + uniform(-1,1)\n",
    "        y = y_old + uniform(-1,1)\n",
    "        lik = nlikelihood([x,y])\n",
    "        if random_sample() < exp(lik-lik_old):\n",
    "            values_cart.append((x,y))\n",
    "            lat,lng = cartesian_to_geo(x,y)\n",
    "            values_geo.append((lat,lng))\n",
    "            x_old,y_old,lat_old,lng_old,lik_old = x,y,lat,lng,lik\n",
    "        else:\n",
    "            values_geo.append((lat_old,lng_old))\n",
    "            values_cart.append((x_old,y_old))"
   ]
  },
  {
   "cell_type": "markdown",
   "metadata": {},
   "source": [
    "## Optimal stand point for the recruiter\n",
    "\n",
    "If there is only one recruiter available, then the best location to stand at is given by the posterior average."
   ]
  },
  {
   "cell_type": "code",
   "execution_count": 29,
   "metadata": {},
   "outputs": [],
   "source": [
    "post_avg = average(values_cart[burnin_size::50],axis=0)\n",
    "post_avg_lat,post_avg_lng = cartesian_to_geo(*post_avg)"
   ]
  },
  {
   "cell_type": "code",
   "execution_count": 36,
   "metadata": {},
   "outputs": [
    {
     "data": {
      "text/html": [
       "<div style=\"width:100%;\"><div style=\"position:relative;width:100%;height:0;padding-bottom:60%;\"><iframe src=\"data:text/html;charset=utf-8;base64,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\" style=\"position:absolute;width:100%;height:100%;left:0;top:0;border:none !important;\" allowfullscreen webkitallowfullscreen mozallowfullscreen></iframe></div></div>"
      ],
      "text/plain": [
       "<folium.folium.Map at 0x7f42daebdeb8>"
      ]
     },
     "execution_count": 36,
     "metadata": {},
     "output_type": "execute_result"
    }
   ],
   "source": [
    "Marker(location=[post_avg_lat,post_avg_lng], icon=Icon(icon='',color='green'),popup='Posterior average').add_to(m)\n",
    "m"
   ]
  },
  {
   "cell_type": "markdown",
   "metadata": {},
   "source": [
    "## Posterior distribution of the location of the candidate\n",
    "\n",
    "If several recruiters are available, they should be dispatched according to the posterior distribution.\n",
    "Ideally, one would derive it from public census data."
   ]
  },
  {
   "cell_type": "code",
   "execution_count": 37,
   "metadata": {},
   "outputs": [
    {
     "data": {
      "text/html": [
       "<div style=\"width:100%;\"><div style=\"position:relative;width:100%;height:0;padding-bottom:60%;\"><iframe src=\"data:text/html;charset=utf-8;base64,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\" style=\"position:absolute;width:100%;height:100%;left:0;top:0;border:none !important;\" allowfullscreen webkitallowfullscreen mozallowfullscreen></iframe></div></div>"
      ],
      "text/plain": [
       "<folium.folium.Map at 0x7f42daebdeb8>"
      ]
     },
     "execution_count": 37,
     "metadata": {},
     "output_type": "execute_result"
    }
   ],
   "source": [
    "HeatMap(values_geo[burnin_size::50],radius=20,blur=22).add_to(m)\n",
    "m"
   ]
  }
 ],
 "metadata": {
  "hide_input": false,
  "kernelspec": {
   "display_name": "Python 3",
   "language": "python",
   "name": "python3"
  },
  "language_info": {
   "codemirror_mode": {
    "name": "ipython",
    "version": 3
   },
   "file_extension": ".py",
   "mimetype": "text/x-python",
   "name": "python",
   "nbconvert_exporter": "python",
   "pygments_lexer": "ipython3",
   "version": "3.5.2"
  },
  "toc": {
   "toc_cell": false,
   "toc_number_sections": true,
   "toc_threshold": 6,
   "toc_window_display": false
  },
  "widgets": {
   "state": {
    "01e88b966ded4a40b6fe526b47febef3": {
     "views": []
    },
    "0377cbac531b47708e0c7987fe7106fd": {
     "views": []
    },
    "04ad8f96efea4f25ab45e68733f56228": {
     "views": []
    },
    "07f5ffe1cdc947298d54912829fae8d8": {
     "views": []
    },
    "084eeed8b0a545b59746898e357d4e13": {
     "views": []
    },
    "0ad9b6ff45e94cd48030b41a9652a9ba": {
     "views": []
    },
    "0c73844210dd4780842eb012293d6627": {
     "views": []
    },
    "0d3af56bd27443f5a8cd8b0e252acc11": {
     "views": []
    },
    "0fa9693c32d34d8c8fe15564bb4b4bb2": {
     "views": []
    },
    "110e37fbbe5742fb87ce4ea7e0bd7b3f": {
     "views": []
    },
    "18cb364b090845829ad2de2676673030": {
     "views": []
    },
    "1a2e590147be479185f9486cb27196a4": {
     "views": []
    },
    "1bf79c2cefa443c2888528fc1ed58101": {
     "views": []
    },
    "24d2e0eda5e34d509a0fe07172516ad8": {
     "views": []
    },
    "2704fb7fac9641b69af50c96d72a0ffc": {
     "views": []
    },
    "2c3a584bebb941a9b6fdb286db535332": {
     "views": []
    },
    "2d51f7b923e84d5eb52aae0aa1ef233e": {
     "views": []
    },
    "33f9d6ea56754ea7bc28156ec9fa863d": {
     "views": []
    },
    "351dc7239b0c493c9b43f3c310f408e7": {
     "views": []
    },
    "371504a51a044c799c2dd6d743eefe4b": {
     "views": []
    },
    "3747d31e2c22450386657354137eb3bc": {
     "views": []
    },
    "3ee80e99defc412b8faaa696ec73768f": {
     "views": []
    },
    "40610f91edfb4d47a29abebb7be1874c": {
     "views": []
    },
    "4155cb0749484db58f202fa259467561": {
     "views": []
    },
    "42374959239e4043b8be03b1058ac5ca": {
     "views": []
    },
    "42474ff2ee3b45a4a9b4437cf7752957": {
     "views": []
    },
    "44bbb5f884fd487eb6181c52a6df4102": {
     "views": []
    },
    "4b1c5ef14ebe4622b9d545a072994a15": {
     "views": []
    },
    "4de777a9bc194c2885c60be3194404e7": {
     "views": []
    },
    "5098ef785abe4c0baea99a7229b3724c": {
     "views": []
    },
    "51bd75a9e07c497cbd1065f9268fb255": {
     "views": []
    },
    "5b855b2a4d7943a88f34ef80405df301": {
     "views": []
    },
    "5e67b78bc1e941528983816195b94e76": {
     "views": []
    },
    "5e9ef1887aa84039a004910dbb49333a": {
     "views": []
    },
    "5f02d4ea03f6456a852dfc7a6a24ef6d": {
     "views": []
    },
    "5ffd233ad8984086b424e899ea52e52b": {
     "views": []
    },
    "66a18fa8fa864964b30df8b9557bb3ba": {
     "views": []
    },
    "68d13f0b4ceb4cdc85b1dcd86d1015b5": {
     "views": []
    },
    "6d6de4a29b32451ca530fe0564d8190d": {
     "views": []
    },
    "6f41014db8c74f7ca974358d64b107bb": {
     "views": []
    },
    "718147a537924c8590a82b79177809a4": {
     "views": []
    },
    "7675828792c54a03a4abc69942baa65e": {
     "views": []
    },
    "7bcca1ff7a2341039ed20c986f6fd564": {
     "views": []
    },
    "7c1a68ab931c43b6bf8364a68b6d7f19": {
     "views": []
    },
    "814d05f64b684b209529f4d7b2af2b71": {
     "views": []
    },
    "88de249c142049b28c09266060e72bcf": {
     "views": []
    },
    "8e5c1a72f0e5400fb94d08a86ef27ed1": {
     "views": []
    },
    "96a0d95fe03c409b8b2516a24e456dbf": {
     "views": []
    },
    "9815cdc0b76d445b801e72a8e87bdedc": {
     "views": []
    },
    "9d3fea434c2442dc9812f9080c8e1df8": {
     "views": []
    },
    "9f19fb82f86b4bb6938756b4147d3cfc": {
     "views": []
    },
    "a0c8a7a7be7741a7bb61e4274a011a64": {
     "views": []
    },
    "a1f7c238e9a2410bbe37033fa8ef3670": {
     "views": []
    },
    "a467bba4f98a415b8c18bd747fed81c5": {
     "views": []
    },
    "a5256837d89e4b43ac3240f7b13c591b": {
     "views": []
    },
    "ac30ef985e7e4917a2677831d6402716": {
     "views": []
    },
    "afe7773750e44b6f88aa09975e4b68da": {
     "views": []
    },
    "b122daf880e349499a4069401a103098": {
     "views": []
    },
    "b430b1893d4d4414a808859d90f70079": {
     "views": []
    },
    "b485334592344a41872fb645fe153700": {
     "views": []
    },
    "b86a0e84fd4d49668382403aa092d4d2": {
     "views": []
    },
    "be0a10dcb75b4f23b4bfd91037ffbc8b": {
     "views": []
    },
    "be0e3e0ffa584b2995748f2a00266ae1": {
     "views": []
    },
    "c1f1f4d70acb41589b6482f17669b8ea": {
     "views": []
    },
    "c2f502c64cff4dc79a0806f2829ce78f": {
     "views": []
    },
    "c46e8715176f4dc698258af62d15cfe9": {
     "views": []
    },
    "c476949337124285bbbf688dee4c94a0": {
     "views": []
    },
    "cd0fb7426f564190905049dc6f196260": {
     "views": []
    },
    "cfa88b19eb584bae870d162376389513": {
     "views": []
    },
    "cfb660dd3a0c4aca9ab9e6dfcb53e5ee": {
     "views": []
    },
    "d0a9fe34c85d40ceb8878241414c90bc": {
     "views": []
    },
    "d5cdfa7631cf4e23a50792459e507f97": {
     "views": []
    },
    "d7f1fa0a9b6645abaa35226cd3fb9b0c": {
     "views": []
    },
    "d947e7730b0343f2881b34ad3f6477f9": {
     "views": []
    },
    "dc009e0f93374372a3b03127dd77e472": {
     "views": [
      {
       "cell_index": 33
      }
     ]
    },
    "dcf2ce5fae31400ea43dce474d526cc0": {
     "views": []
    },
    "de919223531c4dff93d7a6a341afd369": {
     "views": []
    },
    "e06975d63838481684aaebe5873ddbca": {
     "views": []
    },
    "e12c7e6c20f64e768f260e278ee2a1f0": {
     "views": []
    },
    "e3b17108778c40da8290a7a5426b1da2": {
     "views": []
    },
    "e3efb4891ee8448bb110c898df5afb2c": {
     "views": []
    },
    "e49f8624d5a7459fb637d1ebb717c071": {
     "views": []
    },
    "e5c187348a16443899e6b5df6f9cb5c5": {
     "views": []
    },
    "e6b5346203e6417989ebd1039c795194": {
     "views": []
    },
    "e7da14f43f7c4f018eabf01a1bbd3bfc": {
     "views": []
    },
    "e939421bd3f14d5ca57d068ad4687a84": {
     "views": []
    },
    "ea741fb4f845441abda7543e5e8ca0bd": {
     "views": []
    },
    "f5ddc5c499b1461381b2be3cb0066aef": {
     "views": []
    },
    "f7d47c0f85ed467b8a2bc1fe3c079495": {
     "views": []
    },
    "f93319427b9d44a7acbe218a1a51e30f": {
     "views": []
    },
    "f9ec94ffcbf24a5583c81560d1422f52": {
     "views": []
    },
    "face5eaec4ee470ea1b1cbaa25a611ea": {
     "views": []
    },
    "fe61a6d7ea7f49709324c5cbd078d331": {
     "views": []
    }
   },
   "version": "1.1.2"
  }
 },
 "nbformat": 4,
 "nbformat_minor": 1
}
